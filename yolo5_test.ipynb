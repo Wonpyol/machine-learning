{
  "nbformat": 4,
  "nbformat_minor": 0,
  "metadata": {
    "colab": {
      "name": "yolo5_test.ipynb",
      "provenance": [],
      "collapsed_sections": [],
      "authorship_tag": "ABX9TyMFR7ekDo72UzpFuZtYQSjL",
      "include_colab_link": true
    },
    "kernelspec": {
      "name": "python3",
      "display_name": "Python 3"
    },
    "accelerator": "GPU"
  },
  "cells": [
    {
      "cell_type": "markdown",
      "metadata": {
        "id": "view-in-github",
        "colab_type": "text"
      },
      "source": [
        "<a href=\"https://colab.research.google.com/github/Wonpyol/machine-learning/blob/main/yolo5_test.ipynb\" target=\"_parent\"><img src=\"https://colab.research.google.com/assets/colab-badge.svg\" alt=\"Open In Colab\"/></a>"
      ]
    },
    {
      "cell_type": "code",
      "metadata": {
        "colab": {
          "base_uri": "https://localhost:8080/"
        },
        "id": "joXIRMhG3txl",
        "outputId": "2dce9bbc-852c-4879-cbfd-572307c84ec3"
      },
      "source": [
        "from glob import glob\n",
        "img_list = glob('/content/dataset/images/*.jpg')\n",
        "print(len(img_list))\n",
        "\n",
        "from sklearn.model_selection import train_test_split\n",
        "train_img_list, val_img_list = train_test_split(img_list, test_size=0.2, random_state=900)\n",
        "print(len(train_img_list), len(val_img_list))\n",
        "\n",
        "with open('/content/dataset/train.txt', 'w') as f:\n",
        "    f.write('\\n'.join(train_img_list)+'\\n')\n",
        "\n",
        "with open('/content/dataset/val.txt', 'w') as f:\n",
        "    f.write('\\n'.join(val_img_list)+'\\n')\n",
        "\n",
        "import yaml\n",
        "\n",
        "with open('/content/dataset/data.yaml', 'r') as f:\n",
        "    data = yaml.load(f)\n",
        "print(data)\n",
        "\n",
        "data['train'] = '/content/dataset/train.txt'\n",
        "data['val'] = '/content/dataset/val.txt'\n",
        "\n",
        "with open('/content/dataset/data.yaml', 'w') as f:\n",
        "    yaml.dump(data, f)\n",
        "    \n",
        "print(data)"
      ],
      "execution_count": 17,
      "outputs": [
        {
          "output_type": "stream",
          "text": [
            "937\n",
            "749 188\n",
            "{'names': ['pistol'], 'nc': 1, 'train': '/contentd/ataset/train.txt', 'val': '/content/dataset/val.txt'}\n",
            "{'names': ['pistol'], 'nc': 1, 'train': '/content/dataset/train.txt', 'val': '/content/dataset/val.txt'}\n"
          ],
          "name": "stdout"
        }
      ]
    },
    {
      "cell_type": "code",
      "metadata": {
        "colab": {
          "base_uri": "https://localhost:8080/"
        },
        "id": "WZpa0gOmIbgE",
        "outputId": "88f9d536-d7da-4fe4-e503-260f8ef8445e"
      },
      "source": [
        "!python train.py --img 416 --batch 16 --epochs 20 --data /content/dataset/data.yaml --cfg /content/yolov5/models/yolov5s.yaml --weights yolov5s.pt --name gr_result\n"
      ],
      "execution_count": 18,
      "outputs": [
        {
          "output_type": "stream",
          "text": [
            "\u001b[34m\u001b[1mgithub: \u001b[0mup to date with https://github.com/ultralytics/yolov5 ✅\n",
            "YOLOv5 🚀 v4.0-138-ged2c742 torch 1.8.0+cu101 CUDA:0 (Tesla T4, 15109.75MB)\n",
            "\n",
            "Namespace(adam=False, batch_size=16, bucket='', cache_images=False, cfg='/content/yolov5/models/yolov5s.yaml', data='/content/dataset/data.yaml', device='', entity=None, epochs=20, evolve=False, exist_ok=False, global_rank=-1, hyp='data/hyp.scratch.yaml', image_weights=False, img_size=[416, 416], linear_lr=False, local_rank=-1, log_artifacts=False, log_imgs=16, multi_scale=False, name='gr_result', noautoanchor=False, nosave=False, notest=False, project='runs/train', quad=False, rect=False, resume=False, save_dir='runs/train/gr_result3', single_cls=False, sync_bn=False, total_batch_size=16, weights='yolov5s.pt', workers=8, world_size=1)\n",
            "\u001b[34m\u001b[1mwandb: \u001b[0mInstall Weights & Biases for YOLOv5 logging with 'pip install wandb' (recommended)\n",
            "Start Tensorboard with \"tensorboard --logdir runs/train\", view at http://localhost:6006/\n",
            "2021-03-16 08:29:53.619414: I tensorflow/stream_executor/platform/default/dso_loader.cc:49] Successfully opened dynamic library libcudart.so.11.0\n",
            "\u001b[34m\u001b[1mhyperparameters: \u001b[0mlr0=0.01, lrf=0.2, momentum=0.937, weight_decay=0.0005, warmup_epochs=3.0, warmup_momentum=0.8, warmup_bias_lr=0.1, box=0.05, cls=0.5, cls_pw=1.0, obj=1.0, obj_pw=1.0, iou_t=0.2, anchor_t=4.0, fl_gamma=0.0, hsv_h=0.015, hsv_s=0.7, hsv_v=0.4, degrees=0.0, translate=0.1, scale=0.5, shear=0.0, perspective=0.0, flipud=0.0, fliplr=0.5, mosaic=1.0, mixup=0.0\n",
            "Overriding model.yaml nc=80 with nc=1\n",
            "\n",
            "                 from  n    params  module                                  arguments                     \n",
            "  0                -1  1      3520  models.common.Focus                     [3, 32, 3]                    \n",
            "  1                -1  1     18560  models.common.Conv                      [32, 64, 3, 2]                \n",
            "  2                -1  1     18816  models.common.C3                        [64, 64, 1]                   \n",
            "  3                -1  1     73984  models.common.Conv                      [64, 128, 3, 2]               \n",
            "  4                -1  1    156928  models.common.C3                        [128, 128, 3]                 \n",
            "  5                -1  1    295424  models.common.Conv                      [128, 256, 3, 2]              \n",
            "  6                -1  1    625152  models.common.C3                        [256, 256, 3]                 \n",
            "  7                -1  1   1180672  models.common.Conv                      [256, 512, 3, 2]              \n",
            "  8                -1  1    656896  models.common.SPP                       [512, 512, [5, 9, 13]]        \n",
            "  9                -1  1   1182720  models.common.C3                        [512, 512, 1, False]          \n",
            " 10                -1  1    131584  models.common.Conv                      [512, 256, 1, 1]              \n",
            " 11                -1  1         0  torch.nn.modules.upsampling.Upsample    [None, 2, 'nearest']          \n",
            " 12           [-1, 6]  1         0  models.common.Concat                    [1]                           \n",
            " 13                -1  1    361984  models.common.C3                        [512, 256, 1, False]          \n",
            " 14                -1  1     33024  models.common.Conv                      [256, 128, 1, 1]              \n",
            " 15                -1  1         0  torch.nn.modules.upsampling.Upsample    [None, 2, 'nearest']          \n",
            " 16           [-1, 4]  1         0  models.common.Concat                    [1]                           \n",
            " 17                -1  1     90880  models.common.C3                        [256, 128, 1, False]          \n",
            " 18                -1  1    147712  models.common.Conv                      [128, 128, 3, 2]              \n",
            " 19          [-1, 14]  1         0  models.common.Concat                    [1]                           \n",
            " 20                -1  1    296448  models.common.C3                        [256, 256, 1, False]          \n",
            " 21                -1  1    590336  models.common.Conv                      [256, 256, 3, 2]              \n",
            " 22          [-1, 10]  1         0  models.common.Concat                    [1]                           \n",
            " 23                -1  1   1182720  models.common.C3                        [512, 512, 1, False]          \n",
            " 24      [17, 20, 23]  1     16182  models.yolo.Detect                      [1, [[10, 13, 16, 30, 33, 23], [30, 61, 62, 45, 59, 119], [116, 90, 156, 198, 373, 326]], [128, 256, 512]]\n",
            "Model Summary: 283 layers, 7063542 parameters, 7063542 gradients, 16.4 GFLOPS\n",
            "\n",
            "Transferred 354/362 items from yolov5s.pt\n",
            "Scaled weight_decay = 0.0005\n",
            "Optimizer groups: 62 .bias, 62 conv.weight, 59 other\n",
            "\u001b[34m\u001b[1mtrain: \u001b[0mScanning '/content/dataset/train' images and labels... 708 found, 41 missing, 0 empty, 0 corrupted: 100% 749/749 [00:00<00:00, 3128.37it/s]\n",
            "\u001b[34m\u001b[1mtrain: \u001b[0mNew cache created: /content/dataset/train.cache\n",
            "\u001b[34m\u001b[1mval: \u001b[0mScanning '/content/dataset/val' images and labels... 179 found, 9 missing, 0 empty, 0 corrupted: 100% 188/188 [00:00<00:00, 1282.22it/s]\n",
            "\u001b[34m\u001b[1mval: \u001b[0mNew cache created: /content/dataset/val.cache\n",
            "Plotting labels... \n",
            "\n",
            "\u001b[34m\u001b[1mautoanchor: \u001b[0mAnalyzing anchors... anchors/target = 4.50, Best Possible Recall (BPR) = 1.0000\n",
            "Image sizes 416 train, 416 test\n",
            "Using 2 dataloader workers\n",
            "Logging results to runs/train/gr_result3\n",
            "Starting training for 20 epochs...\n",
            "\n",
            "     Epoch   gpu_mem       box       obj       cls     total    labels  img_size\n",
            "      0/19     2.05G    0.1217   0.01201         0    0.1337        22       416: 100% 47/47 [00:43<00:00,  1.09it/s]\n",
            "               Class      Images      Labels           P           R      mAP@.5  mAP@.5:.95: 100% 6/6 [00:03<00:00,  1.50it/s]\n",
            "                 all         188         184     0.00147        0.12    0.000491    7.82e-05\n",
            "\n",
            "     Epoch   gpu_mem       box       obj       cls     total    labels  img_size\n",
            "      1/19     2.07G   0.09466   0.01399         0    0.1086        20       416: 100% 47/47 [00:43<00:00,  1.08it/s]\n",
            "               Class      Images      Labels           P           R      mAP@.5  mAP@.5:.95: 100% 6/6 [00:03<00:00,  1.82it/s]\n",
            "                 all         188         184      0.0103       0.326     0.00525    0.000897\n",
            "\n",
            "     Epoch   gpu_mem       box       obj       cls     total    labels  img_size\n",
            "      2/19     2.07G   0.06874   0.01601         0   0.08475        18       416: 100% 47/47 [00:43<00:00,  1.08it/s]\n",
            "               Class      Images      Labels           P           R      mAP@.5  mAP@.5:.95: 100% 6/6 [00:03<00:00,  1.98it/s]\n",
            "                 all         188         184       0.412       0.582       0.377       0.112\n",
            "\n",
            "     Epoch   gpu_mem       box       obj       cls     total    labels  img_size\n",
            "      3/19     2.07G   0.06138   0.01532         0   0.07669        21       416: 100% 47/47 [00:44<00:00,  1.05it/s]\n",
            "               Class      Images      Labels           P           R      mAP@.5  mAP@.5:.95: 100% 6/6 [00:03<00:00,  1.95it/s]\n",
            "                 all         188         184       0.784       0.732       0.752       0.206\n",
            "\n",
            "     Epoch   gpu_mem       box       obj       cls     total    labels  img_size\n",
            "      4/19     2.07G   0.06004   0.01245         0   0.07249        16       416: 100% 47/47 [00:43<00:00,  1.09it/s]\n",
            "               Class      Images      Labels           P           R      mAP@.5  mAP@.5:.95: 100% 6/6 [00:03<00:00,  1.82it/s]\n",
            "                 all         188         184       0.663       0.771       0.741       0.205\n",
            "\n",
            "     Epoch   gpu_mem       box       obj       cls     total    labels  img_size\n",
            "      5/19     2.07G   0.05352   0.01154         0   0.06506        20       416: 100% 47/47 [00:44<00:00,  1.05it/s]\n",
            "               Class      Images      Labels           P           R      mAP@.5  mAP@.5:.95: 100% 6/6 [00:03<00:00,  1.92it/s]\n",
            "                 all         188         184        0.72       0.837       0.751       0.237\n",
            "\n",
            "     Epoch   gpu_mem       box       obj       cls     total    labels  img_size\n",
            "      6/19     2.07G   0.05244   0.01049         0   0.06293         9       416: 100% 47/47 [00:43<00:00,  1.08it/s]\n",
            "               Class      Images      Labels           P           R      mAP@.5  mAP@.5:.95: 100% 6/6 [00:02<00:00,  2.17it/s]\n",
            "                 all         188         184        0.88        0.88       0.885       0.376\n",
            "\n",
            "     Epoch   gpu_mem       box       obj       cls     total    labels  img_size\n",
            "      7/19     2.07G   0.04689    0.0103         0   0.05719        18       416: 100% 47/47 [00:44<00:00,  1.05it/s]\n",
            "               Class      Images      Labels           P           R      mAP@.5  mAP@.5:.95: 100% 6/6 [00:02<00:00,  2.06it/s]\n",
            "                 all         188         184       0.909       0.929       0.941       0.486\n",
            "\n",
            "     Epoch   gpu_mem       box       obj       cls     total    labels  img_size\n",
            "      8/19     2.07G   0.04493  0.009596         0   0.05453        18       416: 100% 47/47 [00:43<00:00,  1.09it/s]\n",
            "               Class      Images      Labels           P           R      mAP@.5  mAP@.5:.95: 100% 6/6 [00:03<00:00,  1.83it/s]\n",
            "                 all         188         184       0.956       0.945       0.969       0.417\n",
            "\n",
            "     Epoch   gpu_mem       box       obj       cls     total    labels  img_size\n",
            "      9/19     2.07G   0.04135  0.009045         0   0.05039        16       416: 100% 47/47 [00:44<00:00,  1.06it/s]\n",
            "               Class      Images      Labels           P           R      mAP@.5  mAP@.5:.95: 100% 6/6 [00:03<00:00,  1.99it/s]\n",
            "                 all         188         184       0.836       0.902        0.89       0.408\n",
            "\n",
            "     Epoch   gpu_mem       box       obj       cls     total    labels  img_size\n",
            "     10/19     2.07G   0.04504   0.00856         0    0.0536        20       416: 100% 47/47 [00:43<00:00,  1.08it/s]\n",
            "               Class      Images      Labels           P           R      mAP@.5  mAP@.5:.95: 100% 6/6 [00:03<00:00,  1.88it/s]\n",
            "                 all         188         184       0.845       0.946       0.916       0.401\n",
            "\n",
            "     Epoch   gpu_mem       box       obj       cls     total    labels  img_size\n",
            "     11/19     2.07G   0.04459  0.008679         0   0.05327        15       416: 100% 47/47 [00:44<00:00,  1.05it/s]\n",
            "               Class      Images      Labels           P           R      mAP@.5  mAP@.5:.95: 100% 6/6 [00:03<00:00,  1.92it/s]\n",
            "                 all         188         184       0.973       0.967        0.97       0.391\n",
            "\n",
            "     Epoch   gpu_mem       box       obj       cls     total    labels  img_size\n",
            "     12/19     2.07G    0.0417  0.008354         0   0.05005        14       416: 100% 47/47 [00:43<00:00,  1.08it/s]\n",
            "               Class      Images      Labels           P           R      mAP@.5  mAP@.5:.95: 100% 6/6 [00:03<00:00,  1.94it/s]\n",
            "                 all         188         184       0.973       0.984       0.988       0.526\n",
            "\n",
            "     Epoch   gpu_mem       box       obj       cls     total    labels  img_size\n",
            "     13/19     2.07G   0.03709  0.008031         0   0.04512        19       416: 100% 47/47 [00:43<00:00,  1.08it/s]\n",
            "               Class      Images      Labels           P           R      mAP@.5  mAP@.5:.95: 100% 6/6 [00:03<00:00,  1.91it/s]\n",
            "                 all         188         184       0.962       0.967       0.983       0.546\n",
            "\n",
            "     Epoch   gpu_mem       box       obj       cls     total    labels  img_size\n",
            "     14/19     2.07G   0.03779  0.007617         0   0.04541        12       416: 100% 47/47 [00:43<00:00,  1.09it/s]\n",
            "               Class      Images      Labels           P           R      mAP@.5  mAP@.5:.95: 100% 6/6 [00:02<00:00,  2.09it/s]\n",
            "                 all         188         184       0.989       0.984       0.994       0.536\n",
            "\n",
            "     Epoch   gpu_mem       box       obj       cls     total    labels  img_size\n",
            "     15/19     2.07G   0.03492  0.007488         0    0.0424        16       416: 100% 47/47 [00:44<00:00,  1.05it/s]\n",
            "               Class      Images      Labels           P           R      mAP@.5  mAP@.5:.95: 100% 6/6 [00:03<00:00,  1.98it/s]\n",
            "                 all         188         184       0.979       0.994       0.995       0.541\n",
            "\n",
            "     Epoch   gpu_mem       box       obj       cls     total    labels  img_size\n",
            "     16/19     2.07G   0.03115   0.00704         0   0.03819        24       416: 100% 47/47 [00:43<00:00,  1.08it/s]\n",
            "               Class      Images      Labels           P           R      mAP@.5  mAP@.5:.95: 100% 6/6 [00:03<00:00,  1.92it/s]\n",
            "                 all         188         184       0.995       0.984       0.995       0.575\n",
            "\n",
            "     Epoch   gpu_mem       box       obj       cls     total    labels  img_size\n",
            "     17/19     2.07G   0.03453  0.006816         0   0.04135        17       416: 100% 47/47 [00:44<00:00,  1.07it/s]\n",
            "               Class      Images      Labels           P           R      mAP@.5  mAP@.5:.95: 100% 6/6 [00:02<00:00,  2.03it/s]\n",
            "                 all         188         184       0.995           1       0.995       0.572\n",
            "\n",
            "     Epoch   gpu_mem       box       obj       cls     total    labels  img_size\n",
            "     18/19     2.07G   0.03048  0.006537         0   0.03702        25       416: 100% 47/47 [00:43<00:00,  1.09it/s]\n",
            "               Class      Images      Labels           P           R      mAP@.5  mAP@.5:.95: 100% 6/6 [00:03<00:00,  1.98it/s]\n",
            "                 all         188         184           1           1       0.995       0.572\n",
            "\n",
            "     Epoch   gpu_mem       box       obj       cls     total    labels  img_size\n",
            "     19/19     2.07G   0.03029  0.006646         0   0.03694        20       416: 100% 47/47 [00:43<00:00,  1.08it/s]\n",
            "               Class      Images      Labels           P           R      mAP@.5  mAP@.5:.95: 100% 6/6 [00:03<00:00,  1.60it/s]\n",
            "                 all         188         184       0.995           1       0.995       0.566\n",
            "Optimizer stripped from runs/train/gr_result3/weights/last.pt, 14.3MB\n",
            "Optimizer stripped from runs/train/gr_result3/weights/best.pt, 14.3MB\n",
            "20 epochs completed in 0.271 hours.\n",
            "\n"
          ],
          "name": "stdout"
        }
      ]
    },
    {
      "cell_type": "code",
      "metadata": {
        "id": "pF61bRKJI3F-"
      },
      "source": [
        ""
      ],
      "execution_count": null,
      "outputs": []
    },
    {
      "cell_type": "markdown",
      "metadata": {
        "id": "svtv_NH1I3XY"
      },
      "source": [
        "!python train.py --img 416 --batch 16 --epochs 20 --data /content/dataset/data.yaml --cfg /content/yolov5/models/yolov5s.yaml --weights yolov5s.pt --name gr_result"
      ]
    }
  ]
}