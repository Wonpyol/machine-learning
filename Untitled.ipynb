{
 "cells": [
  {
   "cell_type": "code",
   "execution_count": 26,
   "metadata": {},
   "outputs": [
    {
     "name": "stdout",
     "output_type": "stream",
     "text": [
      "937\n",
      "749 188\n"
     ]
    }
   ],
   "source": [
    "from glob import glob\n",
    "img_list = glob('/Users/wonpyolee/work/ml_workspace/machine-learning/dataset/images/*.jpg')\n",
    "print(len(img_list))\n",
    "\n",
    "from sklearn.model_selection import train_test_split\n",
    "train_img_list, val_img_list = train_test_split(img_list, test_size=0.2, random_state=900)\n",
    "print(len(train_img_list), len(val_img_list))\n",
    "\n",
    "with open('/Users/wonpyolee/work/ml_workspace/machine-learning/dataset/train.txt', 'w') as f:\n",
    "    f.write('\\n'.join(train_img_list)+'\\n')\n",
    "\n",
    "with open('/Users/wonpyolee/work/ml_workspace/machine-learning/dataset/val.txt', 'w') as f:\n",
    "    f.write('\\n'.join(val_img_list)+'\\n')"
   ]
  },
  {
   "cell_type": "code",
   "execution_count": 27,
   "metadata": {},
   "outputs": [
    {
     "name": "stdout",
     "output_type": "stream",
     "text": [
      "{'names': ['pistol'], 'nc': 1, 'train': '/Users/wonpyolee/work/ml_workspace/machine-learning/dataset/train.txt', 'val': '/Users/wonpyolee/work/ml_workspace/machine-learning/dataset/val.txt'}\n",
      "{'names': ['pistol'], 'nc': 1, 'train': '/Users/wonpyolee/work/ml_workspace/machine-learning/dataset/train.txt', 'val': '/Users/wonpyolee/work/ml_workspace/machine-learning/dataset/val.txt'}\n"
     ]
    },
    {
     "name": "stderr",
     "output_type": "stream",
     "text": [
      "/opt/anaconda3/lib/python3.7/site-packages/ipykernel_launcher.py:4: YAMLLoadWarning: calling yaml.load() without Loader=... is deprecated, as the default Loader is unsafe. Please read https://msg.pyyaml.org/load for full details.\n",
      "  after removing the cwd from sys.path.\n"
     ]
    }
   ],
   "source": [
    "import yaml\n",
    "\n",
    "with open('/Users/wonpyolee/work/ml_workspace/machine-learning/dataset/data.yaml', 'r') as f:\n",
    "    data = yaml.load(f)\n",
    "print(data)\n",
    "\n",
    "data['train'] = '/Users/wonpyolee/work/ml_workspace/machine-learning/dataset/train.txt'\n",
    "data['val'] = '/Users/wonpyolee/work/ml_workspace/machine-learning/dataset/val.txt'\n",
    "\n",
    "with open('/Users/wonpyolee/work/ml_workspace/machine-learning/dataset/data.yaml', 'w') as f:\n",
    "    yaml.dump(data, f)\n",
    "    \n",
    "print(data)"
   ]
  },
  {
   "cell_type": "code",
   "execution_count": null,
   "metadata": {},
   "outputs": [
    {
     "name": "stdout",
     "output_type": "stream",
     "text": [
      "\u001B[34m\u001B[1mgithub: \u001B[0mup to date with https://github.com/ultralytics/yolov5 ✅\n",
      "YOLOv5 🚀 v4.0-138-ged2c742 torch 1.8.0 CPU\n",
      "\n",
      "Namespace(adam=False, batch_size=10, bucket='', cache_images=False, cfg='/Users/wonpyolee/work/ml_workspace/machine-learning/yolov5/models/yolov5s.yaml', data='/Users/wonpyolee/work/ml_workspace/machine-learning/dataset/data.yaml', device='', entity=None, epochs=10, evolve=False, exist_ok=False, global_rank=-1, hyp='data/hyp.scratch.yaml', image_weights=False, img_size=[416, 416], linear_lr=False, local_rank=-1, log_artifacts=False, log_imgs=16, multi_scale=False, name='gr_result', noautoanchor=False, nosave=False, notest=False, project='runs/train', quad=False, rect=False, resume=False, save_dir='runs/train/gr_result4', single_cls=False, sync_bn=False, total_batch_size=10, weights='yolov5s.pt', workers=8, world_size=1)\n",
      "\u001B[34m\u001B[1mwandb: \u001B[0mInstall Weights & Biases for YOLOv5 logging with 'pip install wandb' (recommended)\n",
      "Start Tensorboard with \"tensorboard --logdir runs/train\", view at http://localhost:6006/\n",
      "\u001B[34m\u001B[1mhyperparameters: \u001B[0mlr0=0.01, lrf=0.2, momentum=0.937, weight_decay=0.0005, warmup_epochs=3.0, warmup_momentum=0.8, warmup_bias_lr=0.1, box=0.05, cls=0.5, cls_pw=1.0, obj=1.0, obj_pw=1.0, iou_t=0.2, anchor_t=4.0, fl_gamma=0.0, hsv_h=0.015, hsv_s=0.7, hsv_v=0.4, degrees=0.0, translate=0.1, scale=0.5, shear=0.0, perspective=0.0, flipud=0.0, fliplr=0.5, mosaic=1.0, mixup=0.0\n",
      "Downloading https://github.com/ultralytics/yolov5/releases/download/v4.0/yolov5s.pt to yolov5s.pt...\n",
      "100%|██████████████████████████████████████| 14.1M/14.1M [00:00<00:00, 16.9MB/s]\n",
      "\n",
      "Overriding model.yaml nc=80 with nc=1\n",
      "\n",
      "                 from  n    params  module                                  arguments                     \n",
      "  0                -1  1      3520  models.common.Focus                     [3, 32, 3]                    \n",
      "  1                -1  1     18560  models.common.Conv                      [32, 64, 3, 2]                \n",
      "  2                -1  1     18816  models.common.C3                        [64, 64, 1]                   \n",
      "  3                -1  1     73984  models.common.Conv                      [64, 128, 3, 2]               \n",
      "  4                -1  1    156928  models.common.C3                        [128, 128, 3]                 \n",
      "  5                -1  1    295424  models.common.Conv                      [128, 256, 3, 2]              \n",
      "  6                -1  1    625152  models.common.C3                        [256, 256, 3]                 \n",
      "  7                -1  1   1180672  models.common.Conv                      [256, 512, 3, 2]              \n",
      "  8                -1  1    656896  models.common.SPP                       [512, 512, [5, 9, 13]]        \n",
      "  9                -1  1   1182720  models.common.C3                        [512, 512, 1, False]          \n",
      " 10                -1  1    131584  models.common.Conv                      [512, 256, 1, 1]              \n",
      " 11                -1  1         0  torch.nn.modules.upsampling.Upsample    [None, 2, 'nearest']          \n",
      " 12           [-1, 6]  1         0  models.common.Concat                    [1]                           \n",
      " 13                -1  1    361984  models.common.C3                        [512, 256, 1, False]          \n",
      " 14                -1  1     33024  models.common.Conv                      [256, 128, 1, 1]              \n",
      " 15                -1  1         0  torch.nn.modules.upsampling.Upsample    [None, 2, 'nearest']          \n",
      " 16           [-1, 4]  1         0  models.common.Concat                    [1]                           \n",
      " 17                -1  1     90880  models.common.C3                        [256, 128, 1, False]          \n",
      " 18                -1  1    147712  models.common.Conv                      [128, 128, 3, 2]              \n",
      " 19          [-1, 14]  1         0  models.common.Concat                    [1]                           \n",
      " 20                -1  1    296448  models.common.C3                        [256, 256, 1, False]          \n",
      " 21                -1  1    590336  models.common.Conv                      [256, 256, 3, 2]              \n",
      " 22          [-1, 10]  1         0  models.common.Concat                    [1]                           \n",
      " 23                -1  1   1182720  models.common.C3                        [512, 512, 1, False]          \n",
      " 24      [17, 20, 23]  1     16182  models.yolo.Detect                      [1, [[10, 13, 16, 30, 33, 23], [30, 61, 62, 45, 59, 119], [116, 90, 156, 198, 373, 326]], [128, 256, 512]]\n",
      "Model Summary: 283 layers, 7063542 parameters, 7063542 gradients, 16.4 GFLOPS\n",
      "\n",
      "Transferred 354/362 items from yolov5s.pt\n",
      "Scaled weight_decay = 0.00046875\n",
      "Optimizer groups: 62 .bias, 62 conv.weight, 59 other\n",
      "\u001B[34m\u001B[1mtrain: \u001B[0mScanning '/Users/wonpyolee/work/ml_workspace/machine-learning/dataset/tra\u001B[0m\n",
      "[W ParallelNative.cpp:206] Warning: Cannot set number of intraop threads after parallel work has started or after set_num_threads call when using native parallel backend (function set_num_threads)\n",
      "[W ParallelNative.cpp:206] Warning: Cannot set number of intraop threads after parallel work has started or after set_num_threads call when using native parallel backend (function set_num_threads)\n",
      "[W ParallelNative.cpp:206] Warning: Cannot set number of intraop threads after parallel work has started or after set_num_threads call when using native parallel backend (function set_num_threads)\n",
      "[W ParallelNative.cpp:206] Warning: Cannot set number of intraop threads after parallel work has started or after set_num_threads call when using native parallel backend (function set_num_threads)\n",
      "[W ParallelNative.cpp:206] Warning: Cannot set number of intraop threads after parallel work has started or after set_num_threads call when using native parallel backend (function set_num_threads)\n",
      "[W ParallelNative.cpp:206] Warning: Cannot set number of intraop threads after parallel work has started or after set_num_threads call when using native parallel backend (function set_num_threads)\n",
      "\u001B[34m\u001B[1mval: \u001B[0mScanning '/Users/wonpyolee/work/ml_workspace/machine-learning/dataset/val.c\u001B[0m[W ParallelNative.cpp:206] Warning: Cannot set number of intraop threads after parallel work has started or after set_num_threads call when using native parallel backend (function set_num_threads)\n",
      "[W ParallelNative.cpp:206] Warning: Cannot set number of intraop threads after parallel work has started or after set_num_threads call when using native parallel backend (function set_num_threads)\n",
      "[W ParallelNative.cpp:206] Warning: Cannot set number of intraop threads after parallel work has started or after set_num_threads call when using native parallel backend (function set_num_threads)\n",
      "[W ParallelNative.cpp:206] Warning: Cannot set number of intraop threads after parallel work has started or after set_num_threads call when using native parallel backend (function set_num_threads)\n",
      "[W ParallelNative.cpp:206] Warning: Cannot set number of intraop threads after parallel work has started or after set_num_threads call when using native parallel backend (function set_num_threads)\n",
      "\u001B[34m\u001B[1mval: \u001B[0mScanning '/Users/wonpyolee/work/ml_workspace/machine-learning/dataset/val.c\u001B[0m\n",
      "[W ParallelNative.cpp:206] Warning: Cannot set number of intraop threads after parallel work has started or after set_num_threads call when using native parallel backend (function set_num_threads)\n",
      "Plotting labels... \n",
      "[W ParallelNative.cpp:206] Warning: Cannot set number of intraop threads after parallel work has started or after set_num_threads call when using native parallel backend (function set_num_threads)\n",
      "[W ParallelNative.cpp:206] Warning: Cannot set number of intraop threads after parallel work has started or after set_num_threads call when using native parallel backend (function set_num_threads)\n",
      "[W ParallelNative.cpp:206] Warning: Cannot set number of intraop threads after parallel work has started or after set_num_threads call when using native parallel backend (function set_num_threads)\n",
      "\u001B[34m\u001B[1mval: \u001B[0mScanning '/Users/wonpyolee/work/ml_workspace/machine-learning/dataset/val.c\u001B[0m\n",
      "\u001B[34m\u001B[1mval: \u001B[0mScanning '/Users/wonpyolee/work/ml_workspace/machine-learning/dataset/val.c\u001B[0m\n",
      "[W ParallelNative.cpp:206] Warning: Cannot set number of intraop threads after parallel work has started or after set_num_threads call when using native parallel backend (function set_num_threads)\n"
     ]
    },
    {
     "name": "stdout",
     "output_type": "stream",
     "text": [
      "\u001B[34m\u001B[1mval: \u001B[0mScanning '/Users/wonpyolee/work/ml_workspace/machine-learning/dataset/val.c\u001B[0m\n",
      "\u001B[34m\u001B[1mval: \u001B[0mScanning '/Users/wonpyolee/work/ml_workspace/machine-learning/dataset/val.c\u001B[0m\n",
      "\n",
      "\u001B[34m\u001B[1mautoanchor: \u001B[0mAnalyzing anchors... anchors/target = 4.48, Best Possible Recall (BPR) = 1.0000\n",
      "Image sizes 416 train, 416 test\n",
      "Using 8 dataloader workers\n",
      "Logging results to runs/train/gr_result4\n",
      "Starting training for 10 epochs...\n",
      "\n",
      "     Epoch   gpu_mem       box       obj       cls     total    labels  img_size\n",
      "  0%|                                                    | 0/75 [00:00<?, ?it/s]"
     ]
    }
   ],
   "source": [
    "!python train.py --img 416 --batch 10 --epochs 10 --data /Users/wonpyolee/work/ml_workspace/machine-learning/dataset/data.yaml --cfg /Users/wonpyolee/work/ml_workspace/machine-learning/yolov5/models/yolov5s.yaml --weights yolov5s.pt --name gr_result\n"
   ]
  }
 ],
 "metadata": {
  "kernelspec": {
   "display_name": "Python 3",
   "language": "python",
   "name": "python3"
  },
  "language_info": {
   "codemirror_mode": {
    "name": "ipython",
    "version": 3
   },
   "file_extension": ".py",
   "mimetype": "text/x-python",
   "name": "python",
   "nbconvert_exporter": "python",
   "pygments_lexer": "ipython3",
   "version": "3.7.4"
  }
 },
 "nbformat": 4,
 "nbformat_minor": 2
}