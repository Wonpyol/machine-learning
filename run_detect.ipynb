{
 "cells": [
  {
   "cell_type": "code",
   "execution_count": 7,
   "metadata": {},
   "outputs": [
    {
     "name": "stdout",
     "output_type": "stream",
     "text": [
      "Namespace(agnostic_nms=False, augment=False, classes=None, conf_thres=0.5, device='', exist_ok=False, img_size=416, iou_thres=0.45, name='exp', project='runs/detect', save_conf=False, save_txt=False, source='0', update=False, view_img=False, weights=['yolov5/best.pt'])\n",
      "Traceback (most recent call last):\n",
      "  File \"yolov5/detect_video.py\", line 167, in <module>\n",
      "    check_requirements()\n",
      "  File \"/Users/wonpyolee/work/ml_workspace/machine-learning/yolov5/utils/general.py\", line 90, in check_requirements\n",
      "    requirements = [f'{x.name}{x.specifier}' for x in pkg_resources.parse_requirements(Path(file).open())\n",
      "  File \"/opt/anaconda3/lib/python3.7/pathlib.py\", line 1193, in open\n",
      "    opener=self._opener)\n",
      "  File \"/opt/anaconda3/lib/python3.7/pathlib.py\", line 1046, in _opener\n",
      "    return self._accessor.open(self, flags, mode)\n",
      "FileNotFoundError: [Errno 2] No such file or directory: 'requirements.txt'\n"
     ]
    }
   ],
   "source": [
    "from IPython.display import Image\n",
    "import os\n",
    "\n",
    "!python yolov5/detect_video.py --weights yolov5/best.pt --img 416 --conf 0.5 --source 0\n"
   ]
  }
 ],
 "metadata": {
  "kernelspec": {
   "display_name": "Python 3",
   "language": "python",
   "name": "python3"
  },
  "language_info": {
   "codemirror_mode": {
    "name": "ipython",
    "version": 3
   },
   "file_extension": ".py",
   "mimetype": "text/x-python",
   "name": "python",
   "nbconvert_exporter": "python",
   "pygments_lexer": "ipython3",
   "version": "3.7.4"
  }
 },
 "nbformat": 4,
 "nbformat_minor": 2
}
